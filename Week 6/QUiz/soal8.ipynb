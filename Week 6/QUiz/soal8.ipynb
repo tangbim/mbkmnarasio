{
 "cells": [
  {
   "attachments": {},
   "cell_type": "markdown",
   "metadata": {},
   "source": [
    "# Soal 8\n",
    "diberikan data 7 karyawan koperasi sebagai berikut.\n",
    "\n",
    "*data ada pada soal dan dibuatkan dataframenya\n",
    "1. Buatlah kolom baru dari standarisasi salary karyawan!\n",
    "2. Isilah nilai yang kosong pada kolom Usia dengan nilai rata-rata!\n",
    "3. Berapa ID karyawan yang memiliki usia 17 tahun?\n"
   ]
  },
  {
   "attachments": {},
   "cell_type": "markdown",
   "metadata": {},
   "source": [
    "# Jawab\n",
    "1. Buatlah kolom baru dari standarisasi salary karyawan!"
   ]
  },
  {
   "cell_type": "code",
   "execution_count": 11,
   "metadata": {},
   "outputs": [
    {
     "name": "stdout",
     "output_type": "stream",
     "text": [
      "   id    Salary  Usia  Standardized Salary\n",
      "0   1    500000  15.0            -0.873608\n",
      "1   2   2500000  21.0            -0.285603\n",
      "2   3   1000000  17.0            -0.726606\n",
      "3   4  10000000   NaN             1.919417\n",
      "4   5   3900000  23.0             0.126001\n",
      "5   6    900000  17.0            -0.756007\n",
      "6   7   5500000  27.0             0.596405\n"
     ]
    }
   ],
   "source": [
    "import numpy as py\n",
    "import pandas as pd\n",
    "\n",
    "df = {'id':[1,2,3,4,5,6,7],\n",
    "      'Salary': [500000,2500000,1000000,10000000,3900000,900000,5500000],\n",
    "      'Usia': [15,21,17,None,23,17,27]}\n",
    "df = pd.DataFrame(df)\n",
    "\n",
    "\n",
    "# standadisasi salary karyawan\n",
    "\n",
    "# Membuang missing values pada kolom \"Salary\"\n",
    "df = df.dropna(subset=['Salary'])\n",
    "\n",
    "# Menghitung mean dan standar deviasi\n",
    "mean_salary = df['Salary'].mean()\n",
    "std_salary = df['Salary'].std()\n",
    "\n",
    "# Menghitung standarisasi salary\n",
    "df['Standardized Salary'] = (df['Salary'] - mean_salary) / std_salary\n",
    "\n",
    "# Menampilkan hasil\n",
    "print(df)"
   ]
  },
  {
   "attachments": {},
   "cell_type": "markdown",
   "metadata": {},
   "source": [
    "2. Isilah nilai yang kosong pada kolom Usia dengan nilai rata-rata!"
   ]
  },
  {
   "cell_type": "code",
   "execution_count": 12,
   "metadata": {},
   "outputs": [
    {
     "name": "stdout",
     "output_type": "stream",
     "text": [
      "   id    Salary  Usia  Standardized Salary\n",
      "0   1    500000  15.0            -0.873608\n",
      "1   2   2500000  21.0            -0.285603\n",
      "2   3   1000000  17.0            -0.726606\n",
      "3   4  10000000  20.0             1.919417\n",
      "4   5   3900000  23.0             0.126001\n",
      "5   6    900000  17.0            -0.756007\n",
      "6   7   5500000  27.0             0.596405\n"
     ]
    }
   ],
   "source": [
    "meanusia = df['Usia'].mean()\n",
    "\n",
    "# Mengisi nilai kosong dengan nilai rata-rata\n",
    "df['Usia'] = df['Usia'].fillna(meanusia)\n",
    "\n",
    "print(df)"
   ]
  },
  {
   "attachments": {},
   "cell_type": "markdown",
   "metadata": {},
   "source": [
    "3. Berapa ID karyawan yang memiliki usia 17 tahun?"
   ]
  },
  {
   "cell_type": "code",
   "execution_count": 13,
   "metadata": {},
   "outputs": [
    {
     "name": "stdout",
     "output_type": "stream",
     "text": [
      "Id usia yang memiliki usia 17 tahun adalah [3, 6]\n"
     ]
    }
   ],
   "source": [
    "# menghitung karyawan yang memiliki usia 17 tahun\n",
    "idusia17 = df.loc[df['Usia'] == 17, 'id'].tolist()\n",
    "print(f\"Id usia yang memiliki usia 17 tahun adalah {idusia17}\")"
   ]
  },
  {
   "attachments": {},
   "cell_type": "markdown",
   "metadata": {},
   "source": [
    "# Code made by LinTANG BIMa"
   ]
  }
 ],
 "metadata": {
  "kernelspec": {
   "display_name": "Python 3",
   "language": "python",
   "name": "python3"
  },
  "language_info": {
   "codemirror_mode": {
    "name": "ipython",
    "version": 3
   },
   "file_extension": ".py",
   "mimetype": "text/x-python",
   "name": "python",
   "nbconvert_exporter": "python",
   "pygments_lexer": "ipython3",
   "version": "3.10.7"
  },
  "orig_nbformat": 4
 },
 "nbformat": 4,
 "nbformat_minor": 2
}
