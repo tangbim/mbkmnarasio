{
 "cells": [
  {
   "cell_type": "code",
   "execution_count": 1,
   "metadata": {},
   "outputs": [
    {
     "name": "stdout",
     "output_type": "stream",
     "text": [
      "Waktu    object\n",
      "dtype: object\n",
      "Waktu    object\n",
      "dtype: object\n"
     ]
    }
   ],
   "source": [
    "import pandas as pd\n",
    "\n",
    "# Membuat DataFrame contoh\n",
    "df = pd.DataFrame({'Waktu': ['10:30:45', '12:15:20', '15:00:10']})\n",
    "\n",
    "# Menampilkan DataFrame dengan tipe data kolom 'Waktu' yang telah diubah\n",
    "print(df.dtypes)\n",
    "\n",
    "# Mengubah tipe data pada kolom 'Waktu' menjadi datetime dengan format waktu\n",
    "df['Waktu'] = pd.to_datetime(df['Waktu'], format='%H:%M:%S').dt.time\n",
    "\n",
    "print(df.dtypes)\n"
   ]
  }
 ],
 "metadata": {
  "kernelspec": {
   "display_name": "Python 3",
   "language": "python",
   "name": "python3"
  },
  "language_info": {
   "codemirror_mode": {
    "name": "ipython",
    "version": 3
   },
   "file_extension": ".py",
   "mimetype": "text/x-python",
   "name": "python",
   "nbconvert_exporter": "python",
   "pygments_lexer": "ipython3",
   "version": "3.10.7"
  },
  "orig_nbformat": 4
 },
 "nbformat": 4,
 "nbformat_minor": 2
}
