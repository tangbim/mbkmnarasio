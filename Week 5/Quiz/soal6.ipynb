{
 "cells": [
  {
   "attachments": {},
   "cell_type": "markdown",
   "metadata": {},
   "source": [
    "Misalkan CEO sebuah perusahaan besar ingin menentukan apakah jumlah rata-rata waktu yang terbuang selama delapan jam kerja sehari untuk karyawan perusahaannya kurang dari 120 menit yang dilaporkan. Setiap orang dalam sampel acak 10 karyawan dihubungi dan ditanya tentang waktu yang terbuang setiap hari di bekerja. (Peserta mungkin harus dijamin anonimitasnya untuk mendapatkan tanggapan yang jujur!) Data yang dihasilkan adalah sebagai berikut:\n",
    "108 112 117 130 111 131 113 113 105 128"
   ]
  },
  {
   "attachments": {},
   "cell_type": "markdown",
   "metadata": {},
   "source": [
    "1. Tentukan hipotesis yang digunakan pada case tersebut?"
   ]
  },
  {
   "cell_type": "code",
   "execution_count": 3,
   "metadata": {},
   "outputs": [
    {
     "name": "stdout",
     "output_type": "stream",
     "text": [
      "Gagal tolak H0 karena tidak  ada bukti yang kuat untuk melihat bahwa mean populasi kurang dari 120\n"
     ]
    }
   ],
   "source": [
    "from scipy.stats import ttest_ind, ttest_ind_from_stats, ttest_1samp\n",
    "import numpy as np\n",
    "from scipy import stats\n",
    "\n",
    "alpha = 0.05\n",
    "\n",
    "data = [108,112,117,130,111,131,113,113,105,128]\n",
    "meanNull = 120\n",
    "\n",
    "t_statistic, p_value = ttest_1samp(data, meanNull)\n",
    "if p_value < alpha:\n",
    "      print(\"Tolak hipotesis karena kurang menunjukkan bukti bahwa rata-rata waktu terbuang\", meanNull)\n",
    "else:\n",
    "      print(\"Gagal tolak H0 karena tidak  ada bukti yang kuat untuk melihat bahwa mean populasi kurang dari\", meanNull)\n"
   ]
  },
  {
   "attachments": {},
   "cell_type": "markdown",
   "metadata": {},
   "source": [
    "2. Buatlah uji t-test dengan bantuan library scipy"
   ]
  },
  {
   "cell_type": "code",
   "execution_count": 5,
   "metadata": {},
   "outputs": [
    {
     "name": "stdout",
     "output_type": "stream",
     "text": [
      "Sample mean: 116.8\n",
      "H0: mean populasi lebih besar atau sama dengan 120\n",
      "Ha: mean populasi kurang dari 120\n",
      "T-statistic: -1.0709057958075854\n",
      "P-value: 0.3120886411425161\n",
      "Gagal tolak H0 karena tidak  ada bukti yang kuat untuk melihat bahwa mean populasi kurang dari 120\n"
     ]
    }
   ],
   "source": [
    "print(\"Sample mean:\", np.mean(data))\n",
    "print(\"H0: mean populasi lebih besar atau sama dengan\", meanNull)\n",
    "print(\"Ha: mean populasi kurang dari\", meanNull)\n",
    "print(\"T-statistic:\", t_statistic)\n",
    "print(\"P-value:\", p_value)\n",
    "\n",
    "if p_value < alpha:\n",
    "      print(\"Tolak hipotesis karena kurang menunjukkan bukti bahwa rata-rata waktu terbuang\", meanNull)\n",
    "else:\n",
    "      print(\"Gagal tolak H0 karena tidak  ada bukti yang kuat untuk melihat bahwa mean populasi kurang dari\", meanNull)"
   ]
  }
 ],
 "metadata": {
  "kernelspec": {
   "display_name": "Python 3",
   "language": "python",
   "name": "python3"
  },
  "language_info": {
   "codemirror_mode": {
    "name": "ipython",
    "version": 3
   },
   "file_extension": ".py",
   "mimetype": "text/x-python",
   "name": "python",
   "nbconvert_exporter": "python",
   "pygments_lexer": "ipython3",
   "version": "3.10.7"
  },
  "orig_nbformat": 4
 },
 "nbformat": 4,
 "nbformat_minor": 2
}
