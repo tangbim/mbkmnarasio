{
 "cells": [
  {
   "attachments": {},
   "cell_type": "markdown",
   "metadata": {},
   "source": [
    "Sesuai Essay sebelumnya, buatlah kesimpulan dengan bantuan “if conditional”, apakah rata-rata waktu yang terbuang per delapan jam hari kerja untuk karyawan di perusahaan ini kurang dari 120 menit?"
   ]
  },
  {
   "cell_type": "code",
   "execution_count": 1,
   "metadata": {},
   "outputs": [
    {
     "name": "stdout",
     "output_type": "stream",
     "text": [
      "Sample mean: 116.8\n",
      "H0: mean populasi lebih besar atau sama dengan 120\n",
      "Ha: mean populasi kurang dari 120\n",
      "T-statistic: -1.0709057958075854\n",
      "P-value: 0.3120886411425161\n",
      "Gagal tolak H0 karena tidak terdapat bukti yang kuat untuk mendefinisikan bahwa mean populasi kuarng dari 120\n",
      "Di samping itu, kita tidak dapat menyimpulkan bahwa rata-rata waktu terbuang per 8 jam kurang dari 120 menit\n"
     ]
    }
   ],
   "source": [
    "from scipy.stats import ttest_ind, ttest_ind_from_stats, ttest_1samp\n",
    "import numpy as np\n",
    "from scipy import stats\n",
    "\n",
    "alpha = 0.05\n",
    "\n",
    "data = [108,112,117,130,111,131,113,113,105,128]\n",
    "meanNull = 120\n",
    "t_statistic, p_value = ttest_1samp(data, meanNull)\n",
    "\n",
    "print(\"Sample mean:\", np.mean(data))\n",
    "print(\"H0: mean populasi lebih besar atau sama dengan\", meanNull)\n",
    "print(\"Ha: mean populasi kurang dari\", meanNull)\n",
    "print(\"T-statistic:\", t_statistic)\n",
    "print(\"P-value:\", p_value)\n",
    "\n",
    "if p_value < alpha:\n",
    "      print(\"Tolak H0 karena terdapat bukti yang kuat untuk membuktikan bahwa mean kurang dari\", meanNull)\n",
    "      print(\"Di samping itu, rata-rata waktu terbuang per 8 jam adalah kurang dari 120 menit\")\n",
    "else:\n",
    "      print(\"Gagal tolak H0 karena tidak terdapat bukti yang kuat untuk mendefinisikan bahwa mean populasi kuarng dari\", meanNull)\n",
    "      print(\"Di samping itu, kita tidak dapat menyimpulkan bahwa rata-rata waktu terbuang per 8 jam kurang dari 120 menit\")"
   ]
  }
 ],
 "metadata": {
  "kernelspec": {
   "display_name": "Python 3",
   "language": "python",
   "name": "python3"
  },
  "language_info": {
   "codemirror_mode": {
    "name": "ipython",
    "version": 3
   },
   "file_extension": ".py",
   "mimetype": "text/x-python",
   "name": "python",
   "nbconvert_exporter": "python",
   "pygments_lexer": "ipython3",
   "version": "3.10.7"
  },
  "orig_nbformat": 4
 },
 "nbformat": 4,
 "nbformat_minor": 2
}
