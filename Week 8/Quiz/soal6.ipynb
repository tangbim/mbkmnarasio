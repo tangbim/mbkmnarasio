{
 "cells": [
  {
   "attachments": {},
   "cell_type": "markdown",
   "metadata": {},
   "source": [
    "Kerjakanlah menggunakan bantuan python notebook.\n",
    "\n",
    "Sebuah toko buku selalu mencatat banyaknya pengunjung yang datang setiap hari. Jumlah pengunjung dapat dilihat pada tabel berikut.\n",
    "\n",
    "1. Hitung statistika deskriptif pada data tersebut! (Nilai Maks: 10)\n",
    "\n",
    "2. Apakah tipe data setiap kolom sudah sesuai? Jika belum, ubahlah! (Nilai Maks: 10)\n",
    "\n",
    "3. Apakah ada data duplikasi? Jika iya, hapuslah! (Nilai Maks: 10)\n",
    "\n",
    "4. Lakukan pengelompokan data berdasarkan tanggal! (Nilai Maks: 10)\n",
    "\n",
    "5. Buatlah plot yang sesuai untuk data tersebut! (Nilai Maks: 36)"
   ]
  },
  {
   "cell_type": "code",
   "execution_count": 20,
   "metadata": {},
   "outputs": [
    {
     "name": "stdout",
     "output_type": "stream",
     "text": [
      "      Tanggal  Pelanggan\n",
      "0  2019-04-01       1657\n",
      "1  2019-04-02       1638\n",
      "2  2019-04-03       1683\n",
      "3  2019-04-04        780\n",
      "4  2019-04-01       1657\n",
      "5  2019-04-04        721\n",
      "6  2019-04-06       1465\n"
     ]
    }
   ],
   "source": [
    "# mengimport package yang sekiranya diperlukan\n",
    "import pandas as pd\n",
    "from datetime import datetime as dt\n",
    "import seaborn as sns\n",
    "import matplotlib.pyplot as plt\n",
    "import numpy as np\n",
    "\n",
    "# membuat dataframe yang diinginkan soal\n",
    "data = {\n",
    "      'Tanggal': ['2019-04-01', '2019-04-02', '2019-04-03', '2019-04-04', '2019-04-01', '2019-04-04', '2019-04-06'],\n",
    "      'Pelanggan': [1657, 1638, 1683, 780, 1657, 721, 1465]}\n",
    "\n",
    "df = pd.DataFrame(data)\n",
    "print(df)"
   ]
  },
  {
   "attachments": {},
   "cell_type": "markdown",
   "metadata": {},
   "source": [
    "1. Hitung statistika deskriptif pada data tersebut! (Nilai Maks: 10)"
   ]
  },
  {
   "cell_type": "code",
   "execution_count": 21,
   "metadata": {},
   "outputs": [
    {
     "data": {
      "text/html": [
       "<div>\n",
       "<style scoped>\n",
       "    .dataframe tbody tr th:only-of-type {\n",
       "        vertical-align: middle;\n",
       "    }\n",
       "\n",
       "    .dataframe tbody tr th {\n",
       "        vertical-align: top;\n",
       "    }\n",
       "\n",
       "    .dataframe thead th {\n",
       "        text-align: right;\n",
       "    }\n",
       "</style>\n",
       "<table border=\"1\" class=\"dataframe\">\n",
       "  <thead>\n",
       "    <tr style=\"text-align: right;\">\n",
       "      <th></th>\n",
       "      <th>Pelanggan</th>\n",
       "    </tr>\n",
       "  </thead>\n",
       "  <tbody>\n",
       "    <tr>\n",
       "      <th>count</th>\n",
       "      <td>7.000000</td>\n",
       "    </tr>\n",
       "    <tr>\n",
       "      <th>mean</th>\n",
       "      <td>1371.571429</td>\n",
       "    </tr>\n",
       "    <tr>\n",
       "      <th>std</th>\n",
       "      <td>430.666095</td>\n",
       "    </tr>\n",
       "    <tr>\n",
       "      <th>min</th>\n",
       "      <td>721.000000</td>\n",
       "    </tr>\n",
       "    <tr>\n",
       "      <th>25%</th>\n",
       "      <td>1122.500000</td>\n",
       "    </tr>\n",
       "    <tr>\n",
       "      <th>50%</th>\n",
       "      <td>1638.000000</td>\n",
       "    </tr>\n",
       "    <tr>\n",
       "      <th>75%</th>\n",
       "      <td>1657.000000</td>\n",
       "    </tr>\n",
       "    <tr>\n",
       "      <th>max</th>\n",
       "      <td>1683.000000</td>\n",
       "    </tr>\n",
       "  </tbody>\n",
       "</table>\n",
       "</div>"
      ],
      "text/plain": [
       "         Pelanggan\n",
       "count     7.000000\n",
       "mean   1371.571429\n",
       "std     430.666095\n",
       "min     721.000000\n",
       "25%    1122.500000\n",
       "50%    1638.000000\n",
       "75%    1657.000000\n",
       "max    1683.000000"
      ]
     },
     "execution_count": 21,
     "metadata": {},
     "output_type": "execute_result"
    }
   ],
   "source": [
    "df.describe()"
   ]
  },
  {
   "attachments": {},
   "cell_type": "markdown",
   "metadata": {},
   "source": [
    "2. Apakah tipe data setiap kolom sudah sesuai? Jika belum, ubahlah!\n"
   ]
  },
  {
   "cell_type": "code",
   "execution_count": 22,
   "metadata": {},
   "outputs": [
    {
     "name": "stdout",
     "output_type": "stream",
     "text": [
      "Tanggal      object\n",
      "Pelanggan     int64\n",
      "dtype: object\n",
      "\n",
      "Tipe data tanggal belum berbentuk date, maka dari itu perlu dilakukan perubahan terlebih dahulu\n",
      "\n",
      "Tanggal      datetime64[ns]\n",
      "Pelanggan             int64\n",
      "dtype: object\n"
     ]
    }
   ],
   "source": [
    "print(df.dtypes)\n",
    "print(\"\\nTipe data tanggal belum berbentuk date, maka dari itu perlu dilakukan perubahan terlebih dahulu\\n\")\n",
    "\n",
    "# mengubah tipe data dari object menjadi date pada kolom Tanggal\n",
    "df['Tanggal'] = pd.to_datetime(df['Tanggal'])\n",
    "print(df.dtypes)"
   ]
  },
  {
   "attachments": {},
   "cell_type": "markdown",
   "metadata": {},
   "source": [
    "3. Apakah ada data duplikasi? Jika iya, hapuslah!"
   ]
  },
  {
   "cell_type": "code",
   "execution_count": 23,
   "metadata": {},
   "outputs": [
    {
     "name": "stdout",
     "output_type": "stream",
     "text": [
      "0    False\n",
      "1    False\n",
      "2    False\n",
      "3    False\n",
      "4     True\n",
      "5    False\n",
      "6    False\n",
      "dtype: bool\n",
      "\n",
      "0    False\n",
      "1    False\n",
      "2    False\n",
      "3    False\n",
      "5    False\n",
      "6    False\n",
      "dtype: bool\n"
     ]
    }
   ],
   "source": [
    "# mengecek apakah terdapat duplikat pada data\n",
    "print(df.duplicated())\n",
    "print(\"\")\n",
    "# menghapus data duplikat\n",
    "df.drop_duplicates(inplace=True)\n",
    "\n",
    "# mengecek apakah terdapat duplikat pada data\n",
    "print(df.duplicated())"
   ]
  },
  {
   "attachments": {},
   "cell_type": "markdown",
   "metadata": {},
   "source": [
    "4. Lakukan pengelompokan data berdasarkan tanggal! (Nilai Maks: 10)"
   ]
  },
  {
   "cell_type": "code",
   "execution_count": 25,
   "metadata": {},
   "outputs": [
    {
     "name": "stdout",
     "output_type": "stream",
     "text": [
      "2019-04-01 00:00:00\n",
      "     Tanggal  Pelanggan\n",
      "0 2019-04-01       1657\n",
      "2019-04-02 00:00:00\n",
      "     Tanggal  Pelanggan\n",
      "1 2019-04-02       1638\n",
      "2019-04-03 00:00:00\n",
      "     Tanggal  Pelanggan\n",
      "2 2019-04-03       1683\n",
      "2019-04-04 00:00:00\n",
      "     Tanggal  Pelanggan\n",
      "3 2019-04-04        780\n",
      "5 2019-04-04        721\n",
      "2019-04-06 00:00:00\n",
      "     Tanggal  Pelanggan\n",
      "6 2019-04-06       1465\n"
     ]
    }
   ],
   "source": [
    "# mengelompokkan data menggunakan library groupby berdasarkan tanggal\n",
    "groupByTanggal = df.groupby('Tanggal')\n",
    "\n",
    "for tanggal, pelanggan in groupByTanggal:\n",
    "      print(tanggal)\n",
    "      print(pelanggan)"
   ]
  },
  {
   "attachments": {},
   "cell_type": "markdown",
   "metadata": {},
   "source": [
    "5. Buatlah plot yang sesuai untuk data tersebut! (Nilai Maks: 36)"
   ]
  },
  {
   "cell_type": "code",
   "execution_count": 26,
   "metadata": {},
   "outputs": [
    {
     "data": {
      "text/plain": [
       "<Axes: xlabel='Tanggal', ylabel='Pelanggan'>"
      ]
     },
     "execution_count": 26,
     "metadata": {},
     "output_type": "execute_result"
    },
    {
     "data": {
      "image/png": "[encoded data removed]",
      "text/plain": [
       "<Figure size 640x480 with 1 Axes>"
      ]
     },
     "metadata": {},
     "output_type": "display_data"
    }
   ],
   "source": [
    "# membuat scatterplot berdasarkan persebaran pelanggan per tanggalnya\n",
    "sns.scatterplot(x='Tanggal', y='Pelanggan', data=df)"
   ]
  },
  {
   "attachments": {},
   "cell_type": "markdown",
   "metadata": {},
   "source": [
    "## code made by Tangbim"
   ]
  }
 ],
 "metadata": {
  "kernelspec": {
   "display_name": "Python 3",
   "language": "python",
   "name": "python3"
  },
  "language_info": {
   "codemirror_mode": {
    "name": "ipython",
    "version": 3
   },
   "file_extension": ".py",
   "mimetype": "text/x-python",
   "name": "python",
   "nbconvert_exporter": "python",
   "pygments_lexer": "ipython3",
   "version": "3.10.7"
  },
  "orig_nbformat": 4
 },
 "nbformat": 4,
 "nbformat_minor": 2
}
